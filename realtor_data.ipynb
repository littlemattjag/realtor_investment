{
 "cells": [
  {
   "cell_type": "code",
   "execution_count": 1,
   "metadata": {},
   "outputs": [],
   "source": [
    "#pip install -U homeharvest"
   ]
  },
  {
   "cell_type": "code",
   "execution_count": 6,
   "metadata": {},
   "outputs": [],
   "source": [
    "# Import Relevant Packages\n",
    "from homeharvest import scrape_property\n",
    "from datetime import datetime as dt\n",
    "from datetime import timedelta"
   ]
  },
  {
   "cell_type": "code",
   "execution_count": 8,
   "metadata": {},
   "outputs": [],
   "source": [
    "end_date = str(dt.date(dt.now()))\n",
    "start_date = str(dt.date(dt.now() - timedelta(days = 180)))"
   ]
  },
  {
   "cell_type": "code",
   "execution_count": 11,
   "metadata": {},
   "outputs": [],
   "source": [
    "properties = scrape_property(\n",
    "  location=\"Philadelphia, PA\",\n",
    "  listing_type=\"for_sale\",  # or (for_sale, for_rent, pending)\n",
    "  past_days=30,  # sold in last 30 days - listed in last 30 days if (for_sale, for_rent)\n",
    "  #date_from=start_date, # alternative to past_days\n",
    "  #date_to= end_date,\n",
    "  # foreclosure=True\n",
    "  # mls_only=True,  # only fetch MLS listings\n",
    ")"
   ]
  },
  {
   "cell_type": "code",
   "execution_count": 14,
   "metadata": {},
   "outputs": [],
   "source": [
    "def monthly_mortgage_calculator(principal, interest_rate, years): \n",
    "    \"\"\" \n",
    "    Monthly Payments = (Principal * Rate * (1 + Rate) ** Number of Payments)/ ((1+Rate)**Number of Payments)-1\n",
    "    \"\"\"\n",
    "    monthly_rate = interest_rate/12/100\n",
    "    total_payments = years * 12\n",
    "    monthly_payment = principal * (monthly_rate * (1 + monthly_rate) ** total_payments) / ((1 + monthly_rate) ** total_payments - 1)\n",
    "\n",
    "    return monthly_payment"
   ]
  },
  {
   "cell_type": "code",
   "execution_count": 19,
   "metadata": {},
   "outputs": [
    {
     "data": {
      "text/plain": [
       "Index(['property_url', 'property_id', 'listing_id', 'mls', 'mls_id', 'status',\n",
       "       'text', 'style', 'full_street_line', 'street', 'unit', 'city', 'state',\n",
       "       'zip_code', 'beds', 'full_baths', 'half_baths', 'sqft', 'year_built',\n",
       "       'days_on_mls', 'list_price', 'list_price_min', 'list_price_max',\n",
       "       'list_date', 'sold_price', 'last_sold_date', 'assessed_value',\n",
       "       'estimated_value', 'new_construction', 'lot_sqft', 'price_per_sqft',\n",
       "       'latitude', 'longitude', 'neighborhoods', 'county', 'fips_code',\n",
       "       'stories', 'hoa_fee', 'parking_garage', 'agent_id', 'agent_name',\n",
       "       'agent_email', 'agent_phones', 'agent_mls_set', 'agent_nrds_id',\n",
       "       'broker_id', 'broker_name', 'builder_id', 'builder_name', 'office_id',\n",
       "       'office_mls_set', 'office_name', 'office_email', 'office_phones',\n",
       "       'nearby_schools', 'primary_photo', 'alt_photos'],\n",
       "      dtype='object')"
      ]
     },
     "execution_count": 19,
     "metadata": {},
     "output_type": "execute_result"
    }
   ],
   "source": [
    "properties.columns\n",
    "\"\"\" \n",
    "[ 'property_url', \n",
    "'property_id', \n",
    "'listing_id', \n",
    "'mls', \n",
    "'mls_id', \n",
    "'status',\n",
    "'text', \n",
    "'style', \n",
    "'full_street_line',\n",
    " 'street', \n",
    " 'unit', \n",
    " 'city', \n",
    " 'state',\n",
    " 'zip_code', \n",
    " 'beds', \n",
    " 'full_baths',\n",
    " 'half_baths', \n",
    " 'sqft', \n",
    " 'year_built',\n",
    " 'days_on_mls', \n",
    " 'list_price', \n",
    " 'list_price_min', \n",
    " 'list_price_max',\n",
    " 'list_date', 'sold_price', 'last_sold_date', 'assessed_value',\n",
    "       'estimated_value', 'new_construction', 'lot_sqft', 'price_per_sqft',\n",
    "       'latitude', 'longitude', 'neighborhoods', 'county', 'fips_code',\n",
    "       'stories', 'hoa_fee', 'parking_garage', 'agent_id', 'agent_name',\n",
    "       'agent_email', 'agent_phones', 'agent_mls_set', 'agent_nrds_id',\n",
    "       'broker_id', 'broker_name', 'builder_id', 'builder_name', 'office_id',\n",
    "       'office_mls_set', 'office_name', 'office_email', 'office_phones',\n",
    "       'nearby_schools', 'primary_photo', 'alt_photos']\n",
    "\"\"\""
   ]
  },
  {
   "cell_type": "code",
   "execution_count": null,
   "metadata": {},
   "outputs": [],
   "source": []
  }
 ],
 "metadata": {
  "kernelspec": {
   "display_name": ".venv",
   "language": "python",
   "name": "python3"
  },
  "language_info": {
   "codemirror_mode": {
    "name": "ipython",
    "version": 3
   },
   "file_extension": ".py",
   "mimetype": "text/x-python",
   "name": "python",
   "nbconvert_exporter": "python",
   "pygments_lexer": "ipython3",
   "version": "3.9.6"
  }
 },
 "nbformat": 4,
 "nbformat_minor": 2
}
